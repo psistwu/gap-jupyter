{
 "cells": [
  {
   "cell_type": "code",
   "execution_count": 47,
   "id": "ce5d9b40-256e-4159-9f97-d225ddc7c1b9",
   "metadata": {},
   "outputs": [
    {
     "data": {
      "text/plain": [
       "true"
      ]
     },
     "execution_count": 47,
     "metadata": {
      "text/plain": ""
     },
     "output_type": "execute_result"
    }
   ],
   "source": [
    "LoadPackage( \"EquiDeg\" );"
   ]
  },
  {
   "cell_type": "code",
   "execution_count": 17,
   "id": "13f3b323-a219-4d0a-b866-ad986ac79b98",
   "metadata": {},
   "outputs": [
    {
     "data": {
      "text/plain": [
       "Sym( [ 1 .. 4 ] )"
      ]
     },
     "execution_count": 17,
     "metadata": {
      "text/plain": ""
     },
     "output_type": "execute_result"
    }
   ],
   "source": [
    "# create group S4\n",
    "grp := SymmetricGroup( 4 );"
   ]
  },
  {
   "cell_type": "code",
   "execution_count": 20,
   "id": "9cfbc9ef-4aaa-4d37-a79b-63f3755e6dce",
   "metadata": {},
   "outputs": [
    {
     "data": {
      "text/plain": [
       "[ (Z1), (Z2), (D1), (Z3), (V4), (D2), (Z4), (D3), (D4), (A4), (S4) ]"
      ]
     },
     "execution_count": 18,
     "metadata": {
      "text/plain": ""
     },
     "output_type": "execute_result"
    },
    {
     "data": {
      "text/plain": [
       "[ \"Z1\", \"Z2\", \"D1\", \"Z3\", \"V4\", \"D2\", \"Z4\", \"D3\", \"D4\", \"A4\", \"S4\" ]"
      ]
     },
     "execution_count": 19,
     "metadata": {
      "text/plain": ""
     },
     "output_type": "execute_result"
    }
   ],
   "source": [
    "# compute CCSs and assign them names\n",
    "# by naming CCSs, it is easier for users to interpret the result later\n",
    "ccss := ConjugacyClassesSubgroups( grp );\n",
    "names := [ \"Z1\", \"Z2\", \"D1\", \"Z3\", \"V4\", \"D2\", \"Z4\", \"D3\", \"D4\", \"A4\", \"S4\" ];\n",
    "ListA( ccss, names, SetAbbrv );"
   ]
  },
  {
   "cell_type": "code",
   "execution_count": 46,
   "id": "2eacb231-cfc1-498f-85ed-1a2aaa655603",
   "metadata": {},
   "outputs": [
    {
     "name": "stdout",
     "output_type": "stream",
     "text": [
      "Character( CharacterTable( Sym( [ 1 .. 4 ] ) ), [ 1, -1, 1, 1, -1 ] )\n",
      "Character( CharacterTable( Sym( [ 1 .. 4 ] ) ), [ 3, -1, -1, 0, 1 ] )\n",
      "Character( CharacterTable( Sym( [ 1 .. 4 ] ) ), [ 2, 0, 2, -1, 0 ] )\n",
      "Character( CharacterTable( Sym( [ 1 .. 4 ] ) ), [ 3, 1, -1, 0, -1 ] )\n",
      "Character( CharacterTable( Sym( [ 1 .. 4 ] ) ), [ 1, 1, 1, 1, 1 ] )\n"
     ]
    }
   ],
   "source": [
    "# compute irreducible representations\n",
    "irrs := Irr( grp );;\n",
    "for char in irrs do\n",
    "  View( char );\n",
    "  Print( \"\\n\" );\n",
    "od;"
   ]
  },
  {
   "cell_type": "code",
   "execution_count": 44,
   "id": "cd831a1d-478a-4473-970e-4315ab8943c9",
   "metadata": {},
   "outputs": [
    {
     "name": "stdout",
     "output_type": "stream",
     "text": [
      "[ (A4) ]\n",
      "[ (D1), (Z3), (Z4) ]\n",
      "[ (D4) ]\n",
      "[ (D2), (D3) ]\n",
      "[  ]\n"
     ]
    }
   ],
   "source": [
    "# compute lattice of orbit types for each irreducible representation\n",
    "lats := List( irrs, irr -> LatticeOrbitTypes( irr ) );;\n",
    "\n",
    "# for each irreducible representation, export the lattice of orbit as Graphviz file\n",
    "for i in [ 1 .. Size( irrs ) ] do\n",
    "  dotfile := StringFormatted( \"example1/S4_irr{}_latorbt.dot\", i );\n",
    "  irr := irrs[ i ];\n",
    "  lat_orbtyp := LatticeOrbitTypes( irr );\n",
    "  DotFileLattice( lat_orbtyp, dotfile );\n",
    "\n",
    "  # also, print the maximal orbit types for each irreducible representation\n",
    "  max_orbtyps := MaximalOrbitTypes( irr );\n",
    "  View( max_orbtyps );\n",
    "  Print( \"\\n\" );\n",
    "od;"
   ]
  },
  {
   "cell_type": "code",
   "execution_count": null,
   "id": "2f43e952-ce2a-44bb-a5bf-88cebc5e98c5",
   "metadata": {},
   "outputs": [],
   "source": []
  }
 ],
 "metadata": {
  "kernelspec": {
   "display_name": "GAP 4",
   "language": "gap",
   "name": "gap-4"
  },
  "language_info": {
   "codemirror_mode": "gap",
   "file_extension": ".g",
   "mimetype": "text/x-gap",
   "name": "GAP 4",
   "nbconvert_exporter": "",
   "pygments_lexer": "gap",
   "version": "4.12.2"
  }
 },
 "nbformat": 4,
 "nbformat_minor": 5
}
