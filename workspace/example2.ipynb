{
 "cells": [
  {
   "cell_type": "code",
   "execution_count": 16,
   "id": "a2e39102-c079-460c-a64a-396670da0d63",
   "metadata": {},
   "outputs": [
    {
     "data": {
      "text/plain": [
       "true"
      ]
     },
     "execution_count": 16,
     "metadata": {
      "text/plain": ""
     },
     "output_type": "execute_result"
    }
   ],
   "source": [
    "LoadPackage( \"EquiDeg\" );"
   ]
  },
  {
   "cell_type": "code",
   "execution_count": 4,
   "id": "83ec869a-7a33-4ae8-826c-51fd69aa0733",
   "metadata": {},
   "outputs": [
    {
     "data": {
      "text/plain": [
       "Sym( [ 1 .. 4 ] )"
      ]
     },
     "execution_count": 4,
     "metadata": {
      "text/plain": ""
     },
     "output_type": "execute_result"
    }
   ],
   "source": [
    "# create group S4\n",
    "s4 := SymmetricGroup( 4 );"
   ]
  },
  {
   "cell_type": "code",
   "execution_count": 9,
   "id": "056d3721-e5e3-4cdb-a93f-947d524abaea",
   "metadata": {},
   "outputs": [
    {
     "data": {
      "text/plain": [
       "[ (Z1), (Z2), (D1), (Z3), (V4), (D2), (Z4), (D3), (D4), (A4), (S4) ]"
      ]
     },
     "execution_count": 7,
     "metadata": {
      "text/plain": ""
     },
     "output_type": "execute_result"
    },
    {
     "data": {
      "text/plain": [
       "[ \"Z1\", \"Z2\", \"D1\", \"Z3\", \"V4\", \"D2\", \"Z4\", \"D3\", \"D4\", \"A4\", \"S4\" ]"
      ]
     },
     "execution_count": 8,
     "metadata": {
      "text/plain": ""
     },
     "output_type": "execute_result"
    }
   ],
   "source": [
    "# compute CCSs and assign names\n",
    "ccss_s4 := ConjugacyClassesSubgroups( s4 );\n",
    "names := [ \"Z1\", \"Z2\", \"D1\", \"Z3\", \"V4\", \"D2\", \"Z4\", \"D3\", \"D4\", \"A4\", \"S4\" ];\n",
    "ListA( ccss_s4, names, SetAbbrv );"
   ]
  },
  {
   "cell_type": "code",
   "execution_count": 11,
   "id": "bef633be-7b7e-4dc9-8eb6-d2efaf34e51d",
   "metadata": {},
   "outputs": [
    {
     "data": {
      "text/plain": [
       "<group with 2 generators>"
      ]
     },
     "execution_count": 10,
     "metadata": {
      "text/plain": ""
     },
     "output_type": "execute_result"
    },
    {
     "data": {
      "text/plain": [
       "ConjugacyClassesSubgroups( OrthogonalGroupOverReal( 2 ) )"
      ]
     },
     "execution_count": 11,
     "metadata": {
      "text/plain": ""
     },
     "output_type": "execute_result"
    }
   ],
   "source": [
    "# create groups O(2) and compute CCSs\n",
    "o2 := OrthogonalGroupOverReal( 2 );\n",
    "ccss_o2 := ConjugacyClassesSubgroups( o2 );"
   ]
  },
  {
   "cell_type": "code",
   "execution_count": 13,
   "id": "be2a3537-95d1-4287-9b48-5d30739e8325",
   "metadata": {},
   "outputs": [
    {
     "data": {
      "text/plain": [
       "<group>"
      ]
     },
     "execution_count": 12,
     "metadata": {
      "text/plain": ""
     },
     "output_type": "execute_result"
    },
    {
     "data": {
      "text/plain": [
       "ConjugacyClassesSubgroups( DirectProduct( OrthogonalGroupOverReal( 2 ), Symmet\\ricGroup( [ 1 .. 4 ] ) ) )"
      ]
     },
     "execution_count": 13,
     "metadata": {
      "text/plain": ""
     },
     "output_type": "execute_result"
    }
   ],
   "source": [
    "# compute O(2)xS4 and compute CCSs\n",
    "g := DirectProduct( o2, s4 );\n",
    "ccss_g := ConjugacyClassesSubgroups( g );"
   ]
  },
  {
   "cell_type": "code",
   "execution_count": 14,
   "id": "5f05b642-be71-49e9-bec8-072017153a2a",
   "metadata": {},
   "outputs": [
    {
     "name": "stdout",
     "output_type": "stream",
     "text": [
      "(SO(2) x Z1)\n",
      "(O(2)|SO(2) x Z1|D1)\n",
      "(SO(2) x D1)\n",
      "(O(2)|SO(2) x Z1|Z2)\n",
      "(SO(2) x Z2)\n",
      "(O(2) x Z1)\n",
      "(SO(2) x Z3)\n",
      "(O(2)|SO(2) x D1|D2)\n",
      "(O(2)|SO(2) x Z2|Z4)\n",
      "(SO(2) x Z4)\n",
      "(O(2)|SO(2) x Z2|D2)\n",
      "(SO(2) x D2)\n",
      "(O(2)|SO(2) x Z2|V4)\n",
      "(SO(2) x V4)\n",
      "(O(2) x D1)\n",
      "(O(2) x Z2)\n",
      "(O(2)|SO(2) x Z3|D3)\n",
      "(SO(2) x D3)\n",
      "(O(2) x Z3)\n",
      "(O(2)|SO(2) x Z4|D4)\n",
      "(O(2)|SO(2) x D2|D4)\n",
      "(O(2)|SO(2) x V4|D4)\n",
      "(SO(2) x D4)\n",
      "(O(2) x Z4)\n",
      "(O(2) x D2)\n",
      "(O(2) x V4)\n",
      "(SO(2) x A4)\n",
      "(O(2) x D3)\n",
      "(O(2) x D4)\n",
      "(O(2)|SO(2) x A4|S4)\n",
      "(SO(2) x S4)\n",
      "(O(2) x A4)\n",
      "(O(2) x S4)\n"
     ]
    }
   ],
   "source": [
    "# print CCSs of subgroups of infinite order\n",
    "for i in [ 1 .. NumberOfZeroModeClasses( ccss_g ) ] do\n",
    "    View( ccss_g[ 0 , i ] );\n",
    "    Print( \"\\n\" );\n",
    "od;"
   ]
  },
  {
   "cell_type": "code",
   "execution_count": 15,
   "id": "5411b38e-9aba-40ba-8a07-53d9e8fe0776",
   "metadata": {},
   "outputs": [
    {
     "name": "stdout",
     "output_type": "stream",
     "text": [
      "(Z_1 x Z1)\n",
      "(D_1|Z_1 x Z1|D1)\n",
      "(Z_2|Z_1 x Z1|D1)\n",
      "(Z_1 x D1)\n",
      "(D_1|Z_1 x Z1|Z2)\n",
      "(Z_2|Z_1 x Z1|Z2)\n",
      "(Z_1 x Z2)\n",
      "(D_1 x Z1)\n",
      "(Z_3|Z_1 x Z1|Z3)\n",
      "(Z_1 x Z3)\n",
      "(D_2|Z_1 x Z1|D2)\n",
      "(D_1|Z_1 x D1|D2)\n",
      "(Z_4|Z_1 x Z1|Z4)\n",
      "(D_2|Z_1 x Z1|D2)\n",
      "(Z_2|Z_1 x D1|D2)\n",
      "(D_2|Z_1 x Z1|V4)\n",
      "(D_1|Z_1 x Z2|Z4)\n",
      "(Z_2|Z_1 x Z2|Z4)\n",
      "(Z_1 x Z4)\n",
      "(D_1|Z_1 x Z2|D2)\n",
      "(Z_2|Z_1 x Z2|D2)\n",
      "(Z_1 x D2)\n",
      "(D_1|Z_1 x Z2|V4)\n",
      "(Z_2|Z_1 x Z2|V4)\n",
      "(Z_1 x V4)\n",
      "(D_2|D_1 x Z1|D1)\n",
      "(D_1 x D1)\n",
      "(D_2|D_1 x Z1|Z2)\n",
      "(D_1 x Z2)\n",
      "(D_3|Z_1 x Z1|D3)\n",
      "(D_1|Z_1 x Z3|D3)\n",
      "(Z_2|Z_1 x Z3|D3)\n",
      "(Z_1 x D3)\n",
      "(D_1 x Z3)\n",
      "(D_4|Z_1 x Z1|D4)\n",
      "(D_2|Z_1 x Z2|D4)\n",
      "(D_2|Z_1 x Z2|D4)\n",
      "(D_1|Z_1 x Z4|D4)\n",
      "(D_1|Z_1 x D2|D4)\n",
      "(D_2|Z_1 x Z2|D4)\n",
      "(Z_2|Z_1 x Z4|D4)\n",
      "(Z_2|Z_1 x D2|D4)\n",
      "(D_1|Z_1 x V4|D4)\n",
      "(Z_2|Z_1 x V4|D4)\n",
      "(Z_1 x D4)\n",
      "(D_2|D_1 x D1|D2)\n",
      "(D_2|D_1 x Z2|Z4)\n",
      "(D_1 x Z4)\n",
      "(D_2|D_1 x Z2|D2)\n",
      "(D_1 x D2)\n",
      "(D_2|D_1 x Z2|V4)\n",
      "(D_1 x V4)\n",
      "(Z_3|Z_1 x V4|A4)\n",
      "(Z_1 x A4)\n",
      "(D_2|D_1 x Z3|D3)\n",
      "(D_1 x D3)\n",
      "(D_2|D_1 x Z4|D4)\n",
      "(D_2|D_1 x D2|D4)\n",
      "(D_2|D_1 x V4|D4)\n",
      "(D_1 x D4)\n",
      "(D_3|Z_1 x V4|S4)\n",
      "(D_1|Z_1 x A4|S4)\n",
      "(Z_2|Z_1 x A4|S4)\n",
      "(Z_1 x S4)\n",
      "(D_1 x A4)\n",
      "(D_2|D_1 x A4|S4)\n",
      "(D_1 x S4)\n"
     ]
    }
   ],
   "source": [
    "# print CCSs of subgrous of finite order\n",
    "for i in [ 1 .. NumberOfNonzeroModeClasses( ccss_g ) ] do\n",
    "    View( ccss_g[ 1 , i ] );\n",
    "    Print( \"\\n\" );\n",
    "od;"
   ]
  },
  {
   "cell_type": "code",
   "execution_count": null,
   "id": "1d8feef6-8fed-4eaa-a6de-186979fae334",
   "metadata": {},
   "outputs": [],
   "source": []
  }
 ],
 "metadata": {
  "kernelspec": {
   "display_name": "GAP 4",
   "language": "gap",
   "name": "gap-4"
  },
  "language_info": {
   "codemirror_mode": "gap",
   "file_extension": ".g",
   "mimetype": "text/x-gap",
   "name": "GAP 4",
   "nbconvert_exporter": "",
   "pygments_lexer": "gap",
   "version": "4.12.2"
  }
 },
 "nbformat": 4,
 "nbformat_minor": 5
}
