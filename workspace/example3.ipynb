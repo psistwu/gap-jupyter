{
 "cells": [
  {
   "cell_type": "code",
   "execution_count": 2,
   "id": "050df3e9-47a4-425c-87b5-aa6d607cc15c",
   "metadata": {},
   "outputs": [
    {
     "data": {
      "text/plain": [
       "true"
      ]
     },
     "execution_count": 2,
     "metadata": {
      "text/plain": ""
     },
     "output_type": "execute_result"
    }
   ],
   "source": [
    "LoadPackage( \"equideg\" );"
   ]
  },
  {
   "cell_type": "code",
   "execution_count": 3,
   "id": "0417963a-4cfe-4219-b019-e53b1dce8a6a",
   "metadata": {},
   "outputs": [
    {
     "data": {
      "text/plain": [
       "<group with 2 generators>"
      ]
     },
     "execution_count": 3,
     "metadata": {
      "text/plain": ""
     },
     "output_type": "execute_result"
    }
   ],
   "source": [
    "# create group O(2) and compute CCSs\n",
    "o2 := OrthogonalGroupOverReal( 2 );"
   ]
  },
  {
   "cell_type": "code",
   "execution_count": 7,
   "id": "1da43bdb-f936-40ac-9498-faa0f94fae9f",
   "metadata": {},
   "outputs": [
    {
     "data": {
      "text/plain": [
       "Sym( [ 1 .. 4 ] )"
      ]
     },
     "execution_count": 4,
     "metadata": {
      "text/plain": ""
     },
     "output_type": "execute_result"
    },
    {
     "data": {
      "text/plain": [
       "[ (Z_1), (Z_2), (D_1), (Z_3), (V_4), (D_2), (Z_4), (D_3), (D_4), (A_4), (S_4)  ]"
      ]
     },
     "execution_count": 5,
     "metadata": {
      "text/plain": ""
     },
     "output_type": "execute_result"
    },
    {
     "data": {
      "text/plain": [
       "[ \"Z_1\", \"Z_2\", \"D_1\", \"Z_3\", \"V_4\", \"D_2\", \"Z_4\", \"D_3\", \"D_4\", \"A_4\", \"S_4\"  ]"
      ]
     },
     "execution_count": 6,
     "metadata": {
      "text/plain": ""
     },
     "output_type": "execute_result"
    }
   ],
   "source": [
    "# create group S_4, compute CCSs and give names\n",
    "s4 := SymmetricGroup( 4 );\n",
    "ccss_s4 := ConjugacyClassesSubgroups( s4 );\n",
    "names := [ \"Z_1\", \"Z_2\", \"D_1\", \"Z_3\", \"V_4\", \"D_2\", \"Z_4\", \"D_3\", \"D_4\", \"A_4\", \"S_4\" ];\n",
    "ListA( ccss_s4, names, SetAbbrv );"
   ]
  },
  {
   "cell_type": "code",
   "execution_count": 9,
   "id": "e2da61dc-e6fa-4ad0-af48-75ea5091c87d",
   "metadata": {},
   "outputs": [
    {
     "data": {
      "text/plain": [
       "<group>"
      ]
     },
     "execution_count": 8,
     "metadata": {
      "text/plain": ""
     },
     "output_type": "execute_result"
    },
    {
     "data": {
      "text/plain": [
       "ConjugacyClassesSubgroups( DirectProduct( OrthogonalGroupOverReal( 2 ), Symmet\\ricGroup( [ 1 .. 4 ] ) ) )"
      ]
     },
     "execution_count": 9,
     "metadata": {
      "text/plain": ""
     },
     "output_type": "execute_result"
    }
   ],
   "source": [
    "# compute O(2)xS4 and compute CCSs\n",
    "g := DirectProduct( o2, s4 );\n",
    "ccss_g := ConjugacyClassesSubgroups( g );"
   ]
  },
  {
   "cell_type": "code",
   "execution_count": 15,
   "id": "2270e11e-049f-444c-b912-4f1801d27142",
   "metadata": {},
   "outputs": [
    {
     "name": "stdout",
     "output_type": "stream",
     "text": [
      "<4(2,43)+1(2,52)-1(2,59)-1(2,60)-2(2,61)+1(0,33)> in Brng( <group> )\n"
     ]
    },
    {
     "data": {
      "text/plain": [
       "Irr( DirectProduct( OrthogonalGroupOverReal( 2 ), SymmetricGroup( [ 1 .. 4 ] )\\ ) )[ 2, 3 ]"
      ]
     },
     "execution_count": 12,
     "metadata": {
      "text/plain": ""
     },
     "output_type": "execute_result"
    }
   ],
   "source": [
    "# compute irreducible g-representations of index [ 2, 3 ]\n",
    "# and its basic degree\n",
    "chi := Irr( g )[ 2, 3 ];\n",
    "bdeg_chi := BasicDegree( chi );;\n",
    "View( bdeg_chi );\n",
    "Print( \"\\n\" );"
   ]
  },
  {
   "cell_type": "code",
   "execution_count": 19,
   "id": "a9ed7a2a-af62-408c-be84-56ddbe6654d6",
   "metadata": {},
   "outputs": [
    {
     "name": "stdout",
     "output_type": "stream",
     "text": [
      "<-1(0,1)+2(0,2)+1(0,4)-1(0,8)-1(0,17)-1(0,20)+1(0,33)> in Brng( <group> )\n"
     ]
    },
    {
     "data": {
      "text/plain": [
       "Irr( DirectProduct( OrthogonalGroupOverReal( 2 ), SymmetricGroup( [ 1 .. 4 ] )\\ ) )[ -1, 2 ]"
      ]
     },
     "execution_count": 16,
     "metadata": {
      "text/plain": ""
     },
     "output_type": "execute_result"
    }
   ],
   "source": [
    "# compute irreducible g-representation of index [ -1, 2 ]\n",
    "# and its basic degree\n",
    "psi := Irr( g )[ -1, 2];\n",
    "bdeg_psi := BasicDegree( psi );;\n",
    "View( bdeg_psi );\n",
    "Print( \"\\n\" );"
   ]
  },
  {
   "cell_type": "code",
   "execution_count": 43,
   "id": "a0685806-350b-4b88-ae5f-a5b0f5a392f4",
   "metadata": {},
   "outputs": [
    {
     "data": {
      "text/plain": [
       "<-6(2,2)-2(2,5)+2(2,11)+2(2,12)-2(2,20)-2(2,23)+4(2,30)+2(2,36)+2(2,38)+4(2,43\\)+1(2,52)-1(2,59)-1(2,60)-2(2,61)-1(0,1)+2(0,2)+1(0,4)-1(0,8)-1(0,17)-1(0,20)+\\1(0,33)> in Brng( <group> )"
      ]
     },
     "execution_count": 43,
     "metadata": {
      "text/plain": ""
     },
     "output_type": "execute_result"
    }
   ],
   "source": [
    "# compute the product of basic degrees\n",
    "prod := bdeg_chi * bdeg_psi;"
   ]
  },
  {
   "cell_type": "code",
   "execution_count": 42,
   "id": "4129c014-cefd-4f9b-84dd-d061d7522a68",
   "metadata": {},
   "outputs": [
    {
     "name": "stdout",
     "output_type": "stream",
     "text": [
      "Brng( <group> ) element:\n",
      "-6\t(2,2)\tD_2|Z_2 x Z_1|D_1\n",
      "-2\t(2,5)\tD_2|Z_2 x Z_1|Z_2\n",
      "2\t(2,11)\tD_4|Z_2 x Z_1|D_2\n",
      "2\t(2,12)\tD_2|Z_2 x D_1|D_2\n",
      "-2\t(2,20)\tD_2|Z_2 x Z_2|D_2\n",
      "-2\t(2,23)\tD_2|Z_2 x Z_2|V_4\n",
      "4\t(2,30)\tD_6|Z_2 x Z_1|D_3\n",
      "2\t(2,36)\tD_4|Z_2 x Z_2|D_4\n",
      "2\t(2,38)\tD_2|Z_2 x Z_4|D_4\n",
      "4\t(2,43)\tD_2|Z_2 x V_4|D_4\n",
      "1\t(2,52)\tD_2 x V_4\n",
      "-1\t(2,59)\tD_4|D_2 x V_4|D_4\n",
      "-1\t(2,60)\tD_2 x D_4\n",
      "-2\t(2,61)\tD_6|Z_2 x V_4|S_4\n",
      "-1\t(0,1)\tSO(2) x Z_1\n",
      "2\t(0,2)\tO(2)|SO(2) x Z_1|D_1\n",
      "1\t(0,4)\tO(2)|SO(2) x Z_1|Z_2\n",
      "-1\t(0,8)\tO(2)|SO(2) x D_1|D_2\n",
      "-1\t(0,17)\tO(2)|SO(2) x Z_3|D_3\n",
      "-1\t(0,20)\tO(2)|SO(2) x Z_4|D_4\n",
      "1\t(0,33)\tO(2) x S_4\n",
      "\n"
     ]
    }
   ],
   "source": [
    "Print( prod );\n",
    "Print( \"\\n\" );"
   ]
  }
 ],
 "metadata": {
  "kernelspec": {
   "display_name": "GAP 4",
   "language": "gap",
   "name": "gap-4"
  },
  "language_info": {
   "codemirror_mode": "gap",
   "file_extension": ".g",
   "mimetype": "text/x-gap",
   "name": "GAP 4",
   "nbconvert_exporter": "",
   "pygments_lexer": "gap",
   "version": "4.12.2"
  }
 },
 "nbformat": 4,
 "nbformat_minor": 5
}
