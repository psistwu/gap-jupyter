{
 "cells": [
  {
   "cell_type": "code",
   "execution_count": null,
   "id": "e691b105-e489-4fa1-b7f7-f3805cbc34fd",
   "metadata": {},
   "outputs": [
    {
     "data": {
      "text/plain": [
       "3628800"
      ]
     },
     "execution_count": 1,
     "metadata": {
      "text/plain": ""
     },
     "output_type": "execute_result"
    }
   ],
   "source": [
    "A := Factorial(10);"
   ]
  },
  {
   "cell_type": "code",
   "execution_count": null,
   "id": "013d8aa1-05d7-4b5c-8238-c27f088b4331",
   "metadata": {},
   "outputs": [
    {
     "data": {
      "text/plain": [
       "3628800"
      ]
     },
     "execution_count": 2,
     "metadata": {
      "text/plain": ""
     },
     "output_type": "execute_result"
    }
   ],
   "source": [
    "A;"
   ]
  },
  {
   "cell_type": "code",
   "execution_count": 3,
   "id": "45c24cef-96f8-4b99-bfd7-a7abdbc900f0",
   "metadata": {},
   "outputs": [
    {
     "name": "stdout",
     "output_type": "stream",
     "text": [
      "#I  DeclareGlobalFunction: too many arguments in /usr/local/share/gap/pkg/equideg/lib/Utils.gd:120\n",
      "#I  DeclareGlobalFunction: too many arguments in /usr/local/share/gap/pkg/equideg/lib/Lattice.gd:175\n",
      "#I  DeclareGlobalFunction: too many arguments in /usr/local/share/gap/pkg/equideg/lib/Group.gd:60\n",
      "#I  DeclareGlobalFunction: too many arguments in /usr/local/share/gap/pkg/equideg/lib/Group.gd:62\n",
      "#I  DeclareGlobalFunction: too many arguments in /usr/local/share/gap/pkg/equideg/lib/Group.gd:64\n",
      "#I  DeclareGlobalFunction: too many arguments in /usr/local/share/gap/pkg/equideg/lib/Group.gd:66\n",
      "#I  DeclareGlobalFunction: too many arguments in /usr/local/share/gap/pkg/equideg/lib/Group.gd:124\n",
      "#I  DeclareGlobalFunction: too many arguments in /usr/local/share/gap/pkg/equideg/lib/OrbitType.gd:84\n",
      "#I  DeclareGlobalFunction: too many arguments in /usr/local/share/gap/pkg/equideg/lib/ElementaryCLG.gd:28\n",
      "#I  DeclareGlobalFunction: too many arguments in /usr/local/share/gap/pkg/equideg/lib/ElementaryCLG.gd:43\n",
      "#I  DeclareGlobalFunction: too many arguments in /usr/local/share/gap/pkg/equideg/lib/ElementaryCLG.gd:59\n"
     ]
    },
    {
     "data": {
      "text/plain": [
       "true"
      ]
     },
     "execution_count": 3,
     "metadata": {
      "text/plain": ""
     },
     "output_type": "execute_result"
    }
   ],
   "source": [
    "LoadPackage(\"equideg\");"
   ]
  },
  {
   "cell_type": "code",
   "execution_count": null,
   "id": "76f0e8fc-62c9-4200-9fef-51fc11e8d236",
   "metadata": {},
   "outputs": [],
   "source": []
  }
 ],
 "metadata": {
  "kernelspec": {
   "display_name": "GAP 4",
   "language": "gap",
   "name": "gap-4"
  },
  "language_info": {
   "codemirror_mode": "gap",
   "file_extension": ".g",
   "mimetype": "text/x-gap",
   "name": "GAP 4",
   "nbconvert_exporter": "",
   "pygments_lexer": "gap",
   "version": "4.12.2"
  }
 },
 "nbformat": 4,
 "nbformat_minor": 5
}
